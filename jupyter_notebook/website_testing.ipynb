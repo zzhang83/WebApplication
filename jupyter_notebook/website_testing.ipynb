{
 "cells": [
  {
   "cell_type": "code",
   "execution_count": null,
   "metadata": {
    "collapsed": true
   },
   "outputs": [],
   "source": [
    "# check homepage"
   ]
  },
  {
   "cell_type": "code",
   "execution_count": null,
   "metadata": {
    "collapsed": true
   },
   "outputs": [],
   "source": [
    "from selenium import webdriver\n",
    "from selenium.webdriver.common.keys import Keys\n",
    "\n",
    "browser = webdriver.Chrome()\n",
    "\n",
    "browser.get('http://ec2-54-196-181-229.compute-1.amazonaws.com/?nsukey=PcNjrk0V1oGme2qIbSQ2xbg5URYt3ZA76cYXogX60kq5Ys%2FRu6MYs5gOdjGvTXQ6YD%2BD9BCJFXUeRLGn9qyWrZHV7wDglanQ%2B8K3U7smFYWKfDmu6EZhJsgcE7e8n1HMTO873QmxK3bMoPFfhM7oWX6hg52JQIrp5W2uJ2Znclcp8p5%2Buh5A6pQk8CQvGlESEtEVeaK3CTfA8NUUhyK7lg%3D%3D')\n",
    "\n",
    "assert 'DMHub' in browser.title\n",
    "browser.quit()"
   ]
  },
  {
   "cell_type": "code",
   "execution_count": null,
   "metadata": {
    "collapsed": true
   },
   "outputs": [],
   "source": [
    "# check search function and search result dsplay"
   ]
  },
  {
   "cell_type": "code",
   "execution_count": null,
   "metadata": {},
   "outputs": [],
   "source": [
    "from selenium import webdriver\n",
    "from selenium.webdriver.common.keys import Keys\n",
    "\n",
    "browser = webdriver.Chrome()\n",
    "browser.get('http://ec2-54-196-181-229.compute-1.amazonaws.com/data/')\n",
    "\n",
    "\n",
    "# test search function:\n",
    "elem = browser.find_element_by_id('search-input')  # Find the search box\n",
    "elem.send_keys('wordlevels')\n",
    "elem.submit\n"
   ]
  },
  {
   "cell_type": "code",
   "execution_count": null,
   "metadata": {
    "scrolled": false
   },
   "outputs": [],
   "source": [
    "results = browser.find_elements_by_id('search-result')\n",
    "print(results[0].text)\n"
   ]
  },
  {
   "cell_type": "code",
   "execution_count": null,
   "metadata": {
    "collapsed": true
   },
   "outputs": [],
   "source": [
    "# check filter function and buttons ( add, clear, apply)"
   ]
  },
  {
   "cell_type": "code",
   "execution_count": null,
   "metadata": {},
   "outputs": [],
   "source": [
    "browser = webdriver.Chrome()\n",
    "browser.get('http://ec2-54-196-181-229.compute-1.amazonaws.com/data/')\n",
    "\n",
    "elem2 = browser.find_element_by_id('filter-form-value')  # Find the search box\n",
    "elem2.send_keys('0.8')\n",
    "elem2.submit\n"
   ]
  },
  {
   "cell_type": "code",
   "execution_count": null,
   "metadata": {},
   "outputs": [],
   "source": [
    "button = browser.find_element_by_id('filter-form-add')\n",
    "button.click()\n",
    "results = browser.find_elements_by_class_name('filter-item')\n",
    "print(results[0].text)"
   ]
  },
  {
   "cell_type": "code",
   "execution_count": null,
   "metadata": {
    "collapsed": true
   },
   "outputs": [],
   "source": [
    "button = browser.find_element_by_id('filter-form-apply')\n",
    "button.click()"
   ]
  },
  {
   "cell_type": "code",
   "execution_count": null,
   "metadata": {
    "collapsed": true
   },
   "outputs": [],
   "source": [
    "button = browser.find_element_by_id('filter-form-removeall')\n",
    "button.click()"
   ]
  }
 ],
 "metadata": {
  "kernelspec": {
   "display_name": "Python 3",
   "language": "python",
   "name": "python3"
  },
  "language_info": {
   "codemirror_mode": {
    "name": "ipython",
    "version": 3
   },
   "file_extension": ".py",
   "mimetype": "text/x-python",
   "name": "python",
   "nbconvert_exporter": "python",
   "pygments_lexer": "ipython3",
   "version": "3.6.3"
  }
 },
 "nbformat": 4,
 "nbformat_minor": 2
}
